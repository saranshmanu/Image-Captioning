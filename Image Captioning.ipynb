{
  "nbformat": 4,
  "nbformat_minor": 0,
  "metadata": {
    "colab": {
      "name": "Image Captioning.ipynb",
      "version": "0.3.2",
      "provenance": [],
      "collapsed_sections": [],
      "toc_visible": true
    },
    "kernelspec": {
      "name": "python3",
      "display_name": "Python 3"
    },
    "accelerator": "GPU"
  },
  "cells": [
    {
      "cell_type": "markdown",
      "metadata": {
        "id": "wgXoR8glOfkq",
        "colab_type": "text"
      },
      "source": [
        "### Importing Libraries"
      ]
    },
    {
      "cell_type": "code",
      "metadata": {
        "id": "ot62cqjmDKPI",
        "colab_type": "code",
        "colab": {
          "base_uri": "https://localhost:8080/",
          "height": 34
        },
        "outputId": "9149d890-a050-422a-a086-ac1d8fa65a70"
      },
      "source": [
        "import keras\n",
        "import os\n",
        "import pandas as pd\n",
        "import matplotlib.pyplot as plt\n",
        "import numpy as np\n",
        "import tensorflow as tf"
      ],
      "execution_count": 1,
      "outputs": [
        {
          "output_type": "stream",
          "text": [
            "Using TensorFlow backend.\n"
          ],
          "name": "stderr"
        }
      ]
    },
    {
      "cell_type": "markdown",
      "metadata": {
        "id": "d_df-UVIOsK3",
        "colab_type": "text"
      },
      "source": [
        "### Getting the files from the drive"
      ]
    },
    {
      "cell_type": "code",
      "metadata": {
        "id": "4QFdwmfyXFOX",
        "colab_type": "code",
        "colab": {
          "base_uri": "https://localhost:8080/",
          "height": 94
        },
        "outputId": "c3296661-8e8d-437b-d9f9-2bbfcc3535c7"
      },
      "source": [
        "from google.colab import drive, files\n",
        "drive.mount('/content/drive')"
      ],
      "execution_count": 2,
      "outputs": [
        {
          "output_type": "stream",
          "text": [
            "Drive already mounted at /content/drive; to attempt to forcibly remount, call drive.mount(\"/content/drive\", force_remount=True).\n"
          ],
          "name": "stdout"
        }
      ]
    },
    {
      "cell_type": "code",
      "metadata": {
        "id": "Fdg-EhNgZZkz",
        "colab_type": "code",
        "colab": {
          "base_uri": "https://localhost:8080/",
          "height": 34
        },
        "outputId": "6b8ab061-5266-4e57-e2e8-0c9437fd5277"
      },
      "source": [
        "base_dataset_url = 'drive/My Drive/flikr30k/'\n",
        "os.listdir(base_dataset_url)"
      ],
      "execution_count": 3,
      "outputs": [
        {
          "output_type": "execute_result",
          "data": {
            "text/plain": [
              "['results.csv', 'flickr30k_images']"
            ]
          },
          "metadata": {
            "tags": []
          },
          "execution_count": 3
        }
      ]
    },
    {
      "cell_type": "markdown",
      "metadata": {
        "id": "F4eunhUWOwh_",
        "colab_type": "text"
      },
      "source": [
        "### Extracting the comments and the image names"
      ]
    },
    {
      "cell_type": "code",
      "metadata": {
        "id": "oeccdr0iaNhb",
        "colab_type": "code",
        "colab": {}
      },
      "source": [
        "df = pd.read_csv(base_dataset_url + \"results.csv\", sep='|', header=None)\n",
        "df = df[df[2].notnull()]\n",
        "df = df[df[0] != 'image_name']\n",
        "comments = df[2].tolist()\n",
        "image_names = df[0].tolist()"
      ],
      "execution_count": 0,
      "outputs": []
    },
    {
      "cell_type": "markdown",
      "metadata": {
        "id": "oeR-KTg9NcGe",
        "colab_type": "text"
      },
      "source": [
        "### Finding the unique words"
      ]
    },
    {
      "cell_type": "code",
      "metadata": {
        "id": "x9L-SR-pbALO",
        "colab_type": "code",
        "colab": {}
      },
      "source": [
        "words = []\n",
        "for sentence in comments:\n",
        "    words_flag = sentence.split(' ')\n",
        "    words += words_flag\n",
        "words = [i.lower() for i in words if i.isalpha()]\n",
        "unique_words = []\n",
        "for i in words:\n",
        "    if i not in unique_words:\n",
        "        unique_words.append(i)"
      ],
      "execution_count": 0,
      "outputs": []
    },
    {
      "cell_type": "markdown",
      "metadata": {
        "id": "VFDZQZttOb8R",
        "colab_type": "text"
      },
      "source": [
        "### Preprocessing Text"
      ]
    },
    {
      "cell_type": "code",
      "metadata": {
        "id": "p-RS00vRSKW0",
        "colab_type": "code",
        "colab": {}
      },
      "source": [
        "from keras.preprocessing.text import Tokenizer\n",
        "from keras.preprocessing.sequence import pad_sequences\n",
        "from keras.utils import np_utils\n",
        "\n",
        "number_of_words = 20000\n",
        "tokenizer = Tokenizer(number_of_words)\n",
        "tokenizer.fit_on_texts(comments)\n",
        "words_dictionary = tokenizer.word_index\n",
        "vocab_size = len(words_dictionary)"
      ],
      "execution_count": 0,
      "outputs": []
    },
    {
      "cell_type": "code",
      "metadata": {
        "id": "sxg0adODTtId",
        "colab_type": "code",
        "colab": {}
      },
      "source": [
        "x_text = tokenizer.texts_to_sequences(comments)\n",
        "x_text = pad_sequences(x_text)\n",
        "y_text = np_utils.to_categorical(x_text, num_classes = vocab_size)"
      ],
      "execution_count": 0,
      "outputs": []
    },
    {
      "cell_type": "code",
      "metadata": {
        "id": "hbYn6CwIcw9M",
        "colab_type": "code",
        "colab": {}
      },
      "source": [
        ""
      ],
      "execution_count": 0,
      "outputs": []
    },
    {
      "cell_type": "code",
      "metadata": {
        "id": "vYQ71HThLi1q",
        "colab_type": "code",
        "colab": {
          "base_uri": "https://localhost:8080/",
          "height": 34
        },
        "outputId": "f2c59040-237d-4e81-d9a3-41acac6e376e"
      },
      "source": [
        ""
      ],
      "execution_count": 39,
      "outputs": [
        {
          "output_type": "execute_result",
          "data": {
            "text/plain": [
              "'image_name'"
            ]
          },
          "metadata": {
            "tags": []
          },
          "execution_count": 39
        }
      ]
    },
    {
      "cell_type": "code",
      "metadata": {
        "id": "iGDt5IytMU1m",
        "colab_type": "code",
        "colab": {}
      },
      "source": [
        ""
      ],
      "execution_count": 0,
      "outputs": []
    }
  ]
}